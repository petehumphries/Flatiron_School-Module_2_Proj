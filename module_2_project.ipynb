{
 "cells": [
  {
   "cell_type": "markdown",
   "metadata": {},
   "source": [
    "## Module 2 Project "
   ]
  },
  {
   "cell_type": "markdown",
   "metadata": {},
   "source": [
    "link to spreadsheet: https://docs.google.com/spreadsheets/d/1kL1rU6_G7Klr78RxtadjEI4dSzmYr3hZEPXT-HaghnA/edit#gid=453759461\n",
    "\n",
    "link to github: https://github.com/petehumphries/Flatiron_School-Module_2_Proj.git\n"
   ]
  },
  {
   "cell_type": "markdown",
   "metadata": {},
   "source": [
    "### Executive Summary\n",
    "\n",
    "This notebook is split into the following sections:\n",
    "\n",
    "    1) Connect to the SQL database\n",
    "    2) Extract + Transform + Load\n",
    "    3) \n",
    "\n",
    "\n",
    "Upon completion of this lab, each unique team in this dataset should have a record in the MongoDB instance containing the following information:\n",
    "\n",
    "The name of the team\n",
    "The total number of goals scored by the team during the 2011 season\n",
    "The total number of wins the team earned during the 2011 season\n",
    "A histogram visualization of the team's wins and losses for the 2011 season (store the visualization directly)\n",
    "\n",
    "The team's win percentage on days where it was raining during games in the 2011 season.\n",
    "\n",
    "### Inputs\n",
    "\n",
    "    All team names\n",
    "    All Match results for 2011\n",
    "    All goals scored for 2011\n",
    "    All match dates \n",
    "    \n",
    "    Weather"
   ]
  },
  {
   "cell_type": "markdown",
   "metadata": {},
   "source": [
    "SQL DB: Name of team, goals scored during the 2011 season, total number of wins\n",
    "Weather: From the Weather API - Berlin only\n",
    "Join by date\n",
    "\n",
    "List the match days => max = 365, likely below 200"
   ]
  },
  {
   "cell_type": "markdown",
   "metadata": {},
   "source": [
    "### Tables:\n",
    "\n",
    "There are the following Tables: \n",
    "\n",
    "Matches, Teams, Unique Teams, Teams_in_Matches, FlatView, FlatView_Advanced, FlatView_Chrono_TeamOrder_Reduced,  \n",
    "\n",
    "Match_ID (int): unique ID per match\n",
    "Div (str): identifies the division the match was played in (D1 = Bundesliga, D2 = Bundesliga 2, E0 = English Premier League)\n",
    "Season (int): Season the match took place in (usually covering the period of August till May of the following year)\n",
    "Date (str): Date of the match\n",
    "HomeTeam (str): Name of the home team\n",
    "AwayTeam (str): Name of the away team\n",
    "FTHG (int) (Full Time Home Goals): Number of goals scored by the home team\n",
    "FTAG (int) (Full Time Away Goals): Number of goals scored by the away team\n",
    "FTR (str) (Full Time Result): 3-way result of the match (H = Home Win, D = Draw, A = Away Win)\n",
    "\n",
    "#### Table: Teams\n",
    "\n",
    "Season (str): Football season for which the data is valid\n",
    "TeamName (str): Name of the team the data concerns\n",
    "KaderHome (str): Number of Players in the squad\n",
    "AvgAgeHome (str): Average age of players\n",
    "ForeignPlayersHome (str): Number of foreign players (non-German, non-English respectively) playing for the team\n",
    "OverallMarketValueHome (str): Overall market value of the team pre-season in EUR (based on data from transfermarkt.de)\n",
    "AvgMarketValueHome (str): Average market value (per player) of the team pre-season in EUR (based on data from transfermarkt.de)\n",
    "StadiumCapacity (str): Maximum stadium capacity of the team's home stadium\n",
    "\n",
    "#### Table: Unique Teams\n",
    "\n",
    "TeamName (str): Name of a team\n",
    "Unique_Team_ID (int): Unique identifier for each team\n",
    "\n",
    "#### Table: Teams_in_Matches\n",
    "\n",
    "Match_ID (int): Unique match ID\n",
    "Unique_Team_ID (int): Unique team ID (This table is used to easily retrieve each match a given team has played in)\n",
    "Based on these tables I created a couple of views which I used as input for my machine learning models:\n",
    "\n",
    "#### View: FlatView\n",
    "\n",
    "Combination of all matches with the respective additional data from Teams table for both home and away team.\n",
    "\n",
    "#### View: FlatView_Advanced\n",
    "\n",
    "Same as Flatview but also includes Unique_Team_ID and Unique_Team in order to easily retrieve all matches played by a team in chronological order.\n",
    "\n",
    "#### View: FlatView_Chrono_TeamOrder_Reduced\n",
    "\n",
    "Similar to Flatview_Advanced, however missing the additional attributes from team in order to have a longer history including years 1993 - 2004. Especially interesting if one is only interested in analyzing winning/loosing streaks.\n",
    "Match_ID (int): unique ID per match\n",
    "Div (str): identifies the division the match was played in (D1 = Bundesliga, D2 = Bundesliga 2, E0 = English Premier League)\n",
    "Season (int): Season the match took place in (usually covering the period of August till May of the following year)\n",
    "Date (str): Date of the match\n",
    "HomeTeam (str): Name of the home team\n",
    "AwayTeam (str): Name of the away team\n",
    "FTHG (int) (Full Time Home Goals): Number of goals scored by the home team\n",
    "FTAG (int) (Full Time Away Goals): Number of goals scored by the away team\n",
    "FTR (str) (Full Time Result): 3-way result of the match (H = Home Win, D = Draw, A = Away Win)"
   ]
  },
  {
   "cell_type": "code",
   "execution_count": 1,
   "metadata": {},
   "outputs": [],
   "source": [
    "import sqlite3\n",
    "import pandas as pd\n",
    "import numpy as np\n",
    "import json\n",
    "\n",
    "conn = sqlite3.connect('database.sqlite')\n",
    "cur = conn.cursor()"
   ]
  },
  {
   "cell_type": "markdown",
   "metadata": {},
   "source": [
    "Extracting all games from the Matches table, filtering on the 2011 season"
   ]
  },
  {
   "cell_type": "markdown",
   "metadata": {},
   "source": [
    "Excluding the Enplish Premiership Games from the import using AND Div <> 'E0' condition. 612 entries"
   ]
  },
  {
   "cell_type": "code",
   "execution_count": 2,
   "metadata": {},
   "outputs": [
    {
     "data": {
      "text/plain": [
       "<sqlite3.Cursor at 0x17eb1205b20>"
      ]
     },
     "execution_count": 2,
     "metadata": {},
     "output_type": "execute_result"
    }
   ],
   "source": [
    "cur.execute(\"\"\"SELECT * FROM MATCHES WHERE Season == '2011' AND Div <> 'E0';\"\"\")"
   ]
  },
  {
   "cell_type": "code",
   "execution_count": 3,
   "metadata": {},
   "outputs": [
    {
     "data": {
      "text/plain": [
       "612"
      ]
     },
     "execution_count": 3,
     "metadata": {},
     "output_type": "execute_result"
    }
   ],
   "source": [
    "len(cur.fetchall()) # 612 rows expected"
   ]
  },
  {
   "cell_type": "markdown",
   "metadata": {},
   "source": [
    "To exclude the English Premier League Matches where Div = E0"
   ]
  },
  {
   "cell_type": "code",
   "execution_count": 4,
   "metadata": {},
   "outputs": [
    {
     "data": {
      "text/html": [
       "<div>\n",
       "<style scoped>\n",
       "    .dataframe tbody tr th:only-of-type {\n",
       "        vertical-align: middle;\n",
       "    }\n",
       "\n",
       "    .dataframe tbody tr th {\n",
       "        vertical-align: top;\n",
       "    }\n",
       "\n",
       "    .dataframe thead th {\n",
       "        text-align: right;\n",
       "    }\n",
       "</style>\n",
       "<table border=\"1\" class=\"dataframe\">\n",
       "  <thead>\n",
       "    <tr style=\"text-align: right;\">\n",
       "      <th></th>\n",
       "      <th>Match_ID</th>\n",
       "      <th>Div</th>\n",
       "      <th>Season</th>\n",
       "      <th>Date</th>\n",
       "      <th>HomeTeam</th>\n",
       "      <th>AwayTeam</th>\n",
       "      <th>FTHG</th>\n",
       "      <th>FTAG</th>\n",
       "      <th>FTR</th>\n",
       "    </tr>\n",
       "  </thead>\n",
       "  <tbody>\n",
       "    <tr>\n",
       "      <td>0</td>\n",
       "      <td>1092</td>\n",
       "      <td>D1</td>\n",
       "      <td>2011</td>\n",
       "      <td>2012-03-31</td>\n",
       "      <td>Nurnberg</td>\n",
       "      <td>Bayern Munich</td>\n",
       "      <td>0</td>\n",
       "      <td>1</td>\n",
       "      <td>A</td>\n",
       "    </tr>\n",
       "    <tr>\n",
       "      <td>1</td>\n",
       "      <td>1093</td>\n",
       "      <td>D1</td>\n",
       "      <td>2011</td>\n",
       "      <td>2011-12-11</td>\n",
       "      <td>Stuttgart</td>\n",
       "      <td>Bayern Munich</td>\n",
       "      <td>1</td>\n",
       "      <td>2</td>\n",
       "      <td>A</td>\n",
       "    </tr>\n",
       "    <tr>\n",
       "      <td>2</td>\n",
       "      <td>1094</td>\n",
       "      <td>D1</td>\n",
       "      <td>2011</td>\n",
       "      <td>2011-08-13</td>\n",
       "      <td>Wolfsburg</td>\n",
       "      <td>Bayern Munich</td>\n",
       "      <td>0</td>\n",
       "      <td>1</td>\n",
       "      <td>A</td>\n",
       "    </tr>\n",
       "    <tr>\n",
       "      <td>3</td>\n",
       "      <td>1095</td>\n",
       "      <td>D1</td>\n",
       "      <td>2011</td>\n",
       "      <td>2011-11-27</td>\n",
       "      <td>Mainz</td>\n",
       "      <td>Bayern Munich</td>\n",
       "      <td>3</td>\n",
       "      <td>2</td>\n",
       "      <td>H</td>\n",
       "    </tr>\n",
       "    <tr>\n",
       "      <td>4</td>\n",
       "      <td>1096</td>\n",
       "      <td>D1</td>\n",
       "      <td>2011</td>\n",
       "      <td>2012-02-18</td>\n",
       "      <td>Freiburg</td>\n",
       "      <td>Bayern Munich</td>\n",
       "      <td>0</td>\n",
       "      <td>0</td>\n",
       "      <td>D</td>\n",
       "    </tr>\n",
       "    <tr>\n",
       "      <td>...</td>\n",
       "      <td>...</td>\n",
       "      <td>...</td>\n",
       "      <td>...</td>\n",
       "      <td>...</td>\n",
       "      <td>...</td>\n",
       "      <td>...</td>\n",
       "      <td>...</td>\n",
       "      <td>...</td>\n",
       "      <td>...</td>\n",
       "    </tr>\n",
       "    <tr>\n",
       "      <td>607</td>\n",
       "      <td>1699</td>\n",
       "      <td>D2</td>\n",
       "      <td>2011</td>\n",
       "      <td>2011-07-24</td>\n",
       "      <td>Paderborn</td>\n",
       "      <td>Fortuna Dusseldorf</td>\n",
       "      <td>1</td>\n",
       "      <td>1</td>\n",
       "      <td>D</td>\n",
       "    </tr>\n",
       "    <tr>\n",
       "      <td>608</td>\n",
       "      <td>1700</td>\n",
       "      <td>D2</td>\n",
       "      <td>2011</td>\n",
       "      <td>2011-12-10</td>\n",
       "      <td>Bochum</td>\n",
       "      <td>Fortuna Dusseldorf</td>\n",
       "      <td>1</td>\n",
       "      <td>1</td>\n",
       "      <td>D</td>\n",
       "    </tr>\n",
       "    <tr>\n",
       "      <td>609</td>\n",
       "      <td>1701</td>\n",
       "      <td>D2</td>\n",
       "      <td>2011</td>\n",
       "      <td>2011-08-15</td>\n",
       "      <td>Ein Frankfurt</td>\n",
       "      <td>Fortuna Dusseldorf</td>\n",
       "      <td>1</td>\n",
       "      <td>1</td>\n",
       "      <td>D</td>\n",
       "    </tr>\n",
       "    <tr>\n",
       "      <td>610</td>\n",
       "      <td>1702</td>\n",
       "      <td>D2</td>\n",
       "      <td>2011</td>\n",
       "      <td>2011-08-27</td>\n",
       "      <td>Aachen</td>\n",
       "      <td>Fortuna Dusseldorf</td>\n",
       "      <td>0</td>\n",
       "      <td>0</td>\n",
       "      <td>D</td>\n",
       "    </tr>\n",
       "    <tr>\n",
       "      <td>611</td>\n",
       "      <td>1703</td>\n",
       "      <td>D2</td>\n",
       "      <td>2011</td>\n",
       "      <td>2011-09-16</td>\n",
       "      <td>Erzgebirge Aue</td>\n",
       "      <td>Fortuna Dusseldorf</td>\n",
       "      <td>2</td>\n",
       "      <td>4</td>\n",
       "      <td>A</td>\n",
       "    </tr>\n",
       "  </tbody>\n",
       "</table>\n",
       "<p>612 rows × 9 columns</p>\n",
       "</div>"
      ],
      "text/plain": [
       "     Match_ID Div  Season        Date        HomeTeam            AwayTeam  \\\n",
       "0        1092  D1    2011  2012-03-31        Nurnberg       Bayern Munich   \n",
       "1        1093  D1    2011  2011-12-11       Stuttgart       Bayern Munich   \n",
       "2        1094  D1    2011  2011-08-13       Wolfsburg       Bayern Munich   \n",
       "3        1095  D1    2011  2011-11-27           Mainz       Bayern Munich   \n",
       "4        1096  D1    2011  2012-02-18        Freiburg       Bayern Munich   \n",
       "..        ...  ..     ...         ...             ...                 ...   \n",
       "607      1699  D2    2011  2011-07-24       Paderborn  Fortuna Dusseldorf   \n",
       "608      1700  D2    2011  2011-12-10          Bochum  Fortuna Dusseldorf   \n",
       "609      1701  D2    2011  2011-08-15   Ein Frankfurt  Fortuna Dusseldorf   \n",
       "610      1702  D2    2011  2011-08-27          Aachen  Fortuna Dusseldorf   \n",
       "611      1703  D2    2011  2011-09-16  Erzgebirge Aue  Fortuna Dusseldorf   \n",
       "\n",
       "     FTHG  FTAG FTR  \n",
       "0       0     1   A  \n",
       "1       1     2   A  \n",
       "2       0     1   A  \n",
       "3       3     2   H  \n",
       "4       0     0   D  \n",
       "..    ...   ...  ..  \n",
       "607     1     1   D  \n",
       "608     1     1   D  \n",
       "609     1     1   D  \n",
       "610     0     0   D  \n",
       "611     2     4   A  \n",
       "\n",
       "[612 rows x 9 columns]"
      ]
     },
     "execution_count": 4,
     "metadata": {},
     "output_type": "execute_result"
    }
   ],
   "source": [
    "cur.execute(\"\"\"SELECT * FROM MATCHES WHERE Season == '2011' AND Div <> 'E0';\"\"\")\n",
    "df = pd.DataFrame(cur.fetchall())\n",
    "df.columns = [x[0] for x in cur.description]\n",
    "df.head(1000)"
   ]
  },
  {
   "cell_type": "markdown",
   "metadata": {},
   "source": [
    "Creating a new column to show \"Match_Winner\" "
   ]
  },
  {
   "cell_type": "code",
   "execution_count": 5,
   "metadata": {},
   "outputs": [],
   "source": [
    "col         = 'FTR'\n",
    "conditions  = [ df[col] == 'H', df[col] == 'A', df[col] == 'D' ]\n",
    "choices     = [ df['HomeTeam'], df['AwayTeam'], 'Draw' ]\n",
    "df[\"Match_Winner\"] = np.select(conditions, choices, default=np.nan) "
   ]
  },
  {
   "cell_type": "code",
   "execution_count": 6,
   "metadata": {
    "scrolled": true
   },
   "outputs": [
    {
     "data": {
      "text/html": [
       "<div>\n",
       "<style scoped>\n",
       "    .dataframe tbody tr th:only-of-type {\n",
       "        vertical-align: middle;\n",
       "    }\n",
       "\n",
       "    .dataframe tbody tr th {\n",
       "        vertical-align: top;\n",
       "    }\n",
       "\n",
       "    .dataframe thead th {\n",
       "        text-align: right;\n",
       "    }\n",
       "</style>\n",
       "<table border=\"1\" class=\"dataframe\">\n",
       "  <thead>\n",
       "    <tr style=\"text-align: right;\">\n",
       "      <th></th>\n",
       "      <th>Match_ID</th>\n",
       "      <th>Div</th>\n",
       "      <th>Season</th>\n",
       "      <th>Date</th>\n",
       "      <th>HomeTeam</th>\n",
       "      <th>AwayTeam</th>\n",
       "      <th>FTHG</th>\n",
       "      <th>FTAG</th>\n",
       "      <th>FTR</th>\n",
       "      <th>Match_Winner</th>\n",
       "    </tr>\n",
       "  </thead>\n",
       "  <tbody>\n",
       "    <tr>\n",
       "      <td>0</td>\n",
       "      <td>1092</td>\n",
       "      <td>D1</td>\n",
       "      <td>2011</td>\n",
       "      <td>2012-03-31</td>\n",
       "      <td>Nurnberg</td>\n",
       "      <td>Bayern Munich</td>\n",
       "      <td>0</td>\n",
       "      <td>1</td>\n",
       "      <td>A</td>\n",
       "      <td>Bayern Munich</td>\n",
       "    </tr>\n",
       "    <tr>\n",
       "      <td>1</td>\n",
       "      <td>1093</td>\n",
       "      <td>D1</td>\n",
       "      <td>2011</td>\n",
       "      <td>2011-12-11</td>\n",
       "      <td>Stuttgart</td>\n",
       "      <td>Bayern Munich</td>\n",
       "      <td>1</td>\n",
       "      <td>2</td>\n",
       "      <td>A</td>\n",
       "      <td>Bayern Munich</td>\n",
       "    </tr>\n",
       "    <tr>\n",
       "      <td>2</td>\n",
       "      <td>1094</td>\n",
       "      <td>D1</td>\n",
       "      <td>2011</td>\n",
       "      <td>2011-08-13</td>\n",
       "      <td>Wolfsburg</td>\n",
       "      <td>Bayern Munich</td>\n",
       "      <td>0</td>\n",
       "      <td>1</td>\n",
       "      <td>A</td>\n",
       "      <td>Bayern Munich</td>\n",
       "    </tr>\n",
       "    <tr>\n",
       "      <td>3</td>\n",
       "      <td>1095</td>\n",
       "      <td>D1</td>\n",
       "      <td>2011</td>\n",
       "      <td>2011-11-27</td>\n",
       "      <td>Mainz</td>\n",
       "      <td>Bayern Munich</td>\n",
       "      <td>3</td>\n",
       "      <td>2</td>\n",
       "      <td>H</td>\n",
       "      <td>Mainz</td>\n",
       "    </tr>\n",
       "    <tr>\n",
       "      <td>4</td>\n",
       "      <td>1096</td>\n",
       "      <td>D1</td>\n",
       "      <td>2011</td>\n",
       "      <td>2012-02-18</td>\n",
       "      <td>Freiburg</td>\n",
       "      <td>Bayern Munich</td>\n",
       "      <td>0</td>\n",
       "      <td>0</td>\n",
       "      <td>D</td>\n",
       "      <td>Draw</td>\n",
       "    </tr>\n",
       "    <tr>\n",
       "      <td>...</td>\n",
       "      <td>...</td>\n",
       "      <td>...</td>\n",
       "      <td>...</td>\n",
       "      <td>...</td>\n",
       "      <td>...</td>\n",
       "      <td>...</td>\n",
       "      <td>...</td>\n",
       "      <td>...</td>\n",
       "      <td>...</td>\n",
       "      <td>...</td>\n",
       "    </tr>\n",
       "    <tr>\n",
       "      <td>607</td>\n",
       "      <td>1699</td>\n",
       "      <td>D2</td>\n",
       "      <td>2011</td>\n",
       "      <td>2011-07-24</td>\n",
       "      <td>Paderborn</td>\n",
       "      <td>Fortuna Dusseldorf</td>\n",
       "      <td>1</td>\n",
       "      <td>1</td>\n",
       "      <td>D</td>\n",
       "      <td>Draw</td>\n",
       "    </tr>\n",
       "    <tr>\n",
       "      <td>608</td>\n",
       "      <td>1700</td>\n",
       "      <td>D2</td>\n",
       "      <td>2011</td>\n",
       "      <td>2011-12-10</td>\n",
       "      <td>Bochum</td>\n",
       "      <td>Fortuna Dusseldorf</td>\n",
       "      <td>1</td>\n",
       "      <td>1</td>\n",
       "      <td>D</td>\n",
       "      <td>Draw</td>\n",
       "    </tr>\n",
       "    <tr>\n",
       "      <td>609</td>\n",
       "      <td>1701</td>\n",
       "      <td>D2</td>\n",
       "      <td>2011</td>\n",
       "      <td>2011-08-15</td>\n",
       "      <td>Ein Frankfurt</td>\n",
       "      <td>Fortuna Dusseldorf</td>\n",
       "      <td>1</td>\n",
       "      <td>1</td>\n",
       "      <td>D</td>\n",
       "      <td>Draw</td>\n",
       "    </tr>\n",
       "    <tr>\n",
       "      <td>610</td>\n",
       "      <td>1702</td>\n",
       "      <td>D2</td>\n",
       "      <td>2011</td>\n",
       "      <td>2011-08-27</td>\n",
       "      <td>Aachen</td>\n",
       "      <td>Fortuna Dusseldorf</td>\n",
       "      <td>0</td>\n",
       "      <td>0</td>\n",
       "      <td>D</td>\n",
       "      <td>Draw</td>\n",
       "    </tr>\n",
       "    <tr>\n",
       "      <td>611</td>\n",
       "      <td>1703</td>\n",
       "      <td>D2</td>\n",
       "      <td>2011</td>\n",
       "      <td>2011-09-16</td>\n",
       "      <td>Erzgebirge Aue</td>\n",
       "      <td>Fortuna Dusseldorf</td>\n",
       "      <td>2</td>\n",
       "      <td>4</td>\n",
       "      <td>A</td>\n",
       "      <td>Fortuna Dusseldorf</td>\n",
       "    </tr>\n",
       "  </tbody>\n",
       "</table>\n",
       "<p>612 rows × 10 columns</p>\n",
       "</div>"
      ],
      "text/plain": [
       "     Match_ID Div  Season        Date        HomeTeam            AwayTeam  \\\n",
       "0        1092  D1    2011  2012-03-31        Nurnberg       Bayern Munich   \n",
       "1        1093  D1    2011  2011-12-11       Stuttgart       Bayern Munich   \n",
       "2        1094  D1    2011  2011-08-13       Wolfsburg       Bayern Munich   \n",
       "3        1095  D1    2011  2011-11-27           Mainz       Bayern Munich   \n",
       "4        1096  D1    2011  2012-02-18        Freiburg       Bayern Munich   \n",
       "..        ...  ..     ...         ...             ...                 ...   \n",
       "607      1699  D2    2011  2011-07-24       Paderborn  Fortuna Dusseldorf   \n",
       "608      1700  D2    2011  2011-12-10          Bochum  Fortuna Dusseldorf   \n",
       "609      1701  D2    2011  2011-08-15   Ein Frankfurt  Fortuna Dusseldorf   \n",
       "610      1702  D2    2011  2011-08-27          Aachen  Fortuna Dusseldorf   \n",
       "611      1703  D2    2011  2011-09-16  Erzgebirge Aue  Fortuna Dusseldorf   \n",
       "\n",
       "     FTHG  FTAG FTR        Match_Winner  \n",
       "0       0     1   A       Bayern Munich  \n",
       "1       1     2   A       Bayern Munich  \n",
       "2       0     1   A       Bayern Munich  \n",
       "3       3     2   H               Mainz  \n",
       "4       0     0   D                Draw  \n",
       "..    ...   ...  ..                 ...  \n",
       "607     1     1   D                Draw  \n",
       "608     1     1   D                Draw  \n",
       "609     1     1   D                Draw  \n",
       "610     0     0   D                Draw  \n",
       "611     2     4   A  Fortuna Dusseldorf  \n",
       "\n",
       "[612 rows x 10 columns]"
      ]
     },
     "execution_count": 6,
     "metadata": {},
     "output_type": "execute_result"
    }
   ],
   "source": [
    "df"
   ]
  },
  {
   "cell_type": "code",
   "execution_count": 7,
   "metadata": {},
   "outputs": [
    {
     "data": {
      "text/plain": [
       "136"
      ]
     },
     "execution_count": 7,
     "metadata": {},
     "output_type": "execute_result"
    }
   ],
   "source": [
    "match_dates_unique=df['Date'].unique()\n",
    "len(match_dates_unique)"
   ]
  },
  {
   "cell_type": "markdown",
   "metadata": {},
   "source": [
    "Selecting the unique dates of football matches to send weather requestes for. Want to minimise the requests"
   ]
  },
  {
   "cell_type": "code",
   "execution_count": 8,
   "metadata": {
    "scrolled": true
   },
   "outputs": [
    {
     "data": {
      "text/plain": [
       "array(['2011-07-15', '2011-07-16', '2011-07-17', '2011-07-18',\n",
       "       '2011-07-22', '2011-07-23', '2011-07-24', '2011-07-25',\n",
       "       '2011-08-05', '2011-08-06', '2011-08-07', '2011-08-08',\n",
       "       '2011-08-12', '2011-08-13', '2011-08-14', '2011-08-15',\n",
       "       '2011-08-19', '2011-08-20', '2011-08-21', '2011-08-22',\n",
       "       '2011-08-26', '2011-08-27', '2011-08-28', '2011-08-29',\n",
       "       '2011-09-09', '2011-09-10', '2011-09-11', '2011-09-12',\n",
       "       '2011-09-16', '2011-09-17', '2011-09-18', '2011-09-19',\n",
       "       '2011-09-23', '2011-09-24', '2011-09-25', '2011-09-26',\n",
       "       '2011-09-30', '2011-10-01', '2011-10-02', '2011-10-03',\n",
       "       '2011-10-14', '2011-10-15', '2011-10-16', '2011-10-17',\n",
       "       '2011-10-21', '2011-10-22', '2011-10-23', '2011-10-28',\n",
       "       '2011-10-29', '2011-10-30', '2011-10-31', '2011-11-04',\n",
       "       '2011-11-05', '2011-11-06', '2011-11-07', '2011-11-18',\n",
       "       '2011-11-19', '2011-11-20', '2011-11-21', '2011-11-25',\n",
       "       '2011-11-26', '2011-11-27', '2011-11-28', '2011-12-02',\n",
       "       '2011-12-03', '2011-12-04', '2011-12-05', '2011-12-09',\n",
       "       '2011-12-10', '2011-12-11', '2011-12-12', '2011-12-13',\n",
       "       '2011-12-16', '2011-12-17', '2011-12-18', '2011-12-19',\n",
       "       '2012-01-20', '2012-01-21', '2012-01-22', '2012-01-27',\n",
       "       '2012-01-28', '2012-01-29', '2012-02-03', '2012-02-04',\n",
       "       '2012-02-05', '2012-02-06', '2012-02-10', '2012-02-11',\n",
       "       '2012-02-12', '2012-02-13', '2012-02-17', '2012-02-18',\n",
       "       '2012-02-19', '2012-02-20', '2012-02-24', '2012-02-25',\n",
       "       '2012-02-26', '2012-02-27', '2012-03-02', '2012-03-03',\n",
       "       '2012-03-04', '2012-03-05', '2012-03-09', '2012-03-10',\n",
       "       '2012-03-11', '2012-03-12', '2012-03-14', '2012-03-16',\n",
       "       '2012-03-17', '2012-03-18', '2012-03-19', '2012-03-23',\n",
       "       '2012-03-24', '2012-03-25', '2012-03-26', '2012-03-30',\n",
       "       '2012-03-31', '2012-04-01', '2012-04-02', '2012-04-05',\n",
       "       '2012-04-07', '2012-04-08', '2012-04-10', '2012-04-11',\n",
       "       '2012-04-13', '2012-04-14', '2012-04-15', '2012-04-16',\n",
       "       '2012-04-20', '2012-04-21', '2012-04-22', '2012-04-23',\n",
       "       '2012-04-28', '2012-04-29', '2012-05-05', '2012-05-06'],\n",
       "      dtype=object)"
      ]
     },
     "execution_count": 8,
     "metadata": {},
     "output_type": "execute_result"
    }
   ],
   "source": [
    "match_dates = np.sort(match_dates_unique)\n",
    "match_dates"
   ]
  },
  {
   "cell_type": "markdown",
   "metadata": {},
   "source": [
    "Build a function to turn match days in to an array"
   ]
  },
  {
   "cell_type": "code",
   "execution_count": 9,
   "metadata": {},
   "outputs": [],
   "source": [
    "def weather_required_dates(match_dates):\n",
    "    weather_req_dates = []\n",
    "    for d in match_dates:\n",
    "        weather_req_dates.append(d)\n",
    "    return weather_req_dates"
   ]
  },
  {
   "cell_type": "code",
   "execution_count": 53,
   "metadata": {},
   "outputs": [
    {
     "data": {
      "text/html": [
       "<div>\n",
       "<style scoped>\n",
       "    .dataframe tbody tr th:only-of-type {\n",
       "        vertical-align: middle;\n",
       "    }\n",
       "\n",
       "    .dataframe tbody tr th {\n",
       "        vertical-align: top;\n",
       "    }\n",
       "\n",
       "    .dataframe thead th {\n",
       "        text-align: right;\n",
       "    }\n",
       "</style>\n",
       "<table border=\"1\" class=\"dataframe\">\n",
       "  <thead>\n",
       "    <tr style=\"text-align: right;\">\n",
       "      <th></th>\n",
       "      <th>Date</th>\n",
       "    </tr>\n",
       "  </thead>\n",
       "  <tbody>\n",
       "    <tr>\n",
       "      <td>0</td>\n",
       "      <td>2011-07-15</td>\n",
       "    </tr>\n",
       "    <tr>\n",
       "      <td>1</td>\n",
       "      <td>2011-07-16</td>\n",
       "    </tr>\n",
       "  </tbody>\n",
       "</table>\n",
       "</div>"
      ],
      "text/plain": [
       "         Date\n",
       "0  2011-07-15\n",
       "1  2011-07-16"
      ]
     },
     "execution_count": 53,
     "metadata": {},
     "output_type": "execute_result"
    }
   ],
   "source": [
    "match_days = weather_required_dates(match_dates)\n",
    "df_match_days=pd.DataFrame(match_days)\n",
    "df_match_days.columns = ['Date']\n",
    "df_match_days.head(2)"
   ]
  },
  {
   "cell_type": "markdown",
   "metadata": {},
   "source": [
    "### Dark Skies API"
   ]
  },
  {
   "cell_type": "markdown",
   "metadata": {},
   "source": [
    "Data requirement from Dark Skies AP"
   ]
  },
  {
   "cell_type": "markdown",
   "metadata": {},
   "source": [
    "Finally, let's get our client id and API key into our jupyter notebook.\n",
    "If we remember that our file is just a regular JSON file, open the file and pull out the appropriate information from the ~/.secret/yelp_api.json file.\n",
    "\n",
    "The API documentation can be found at: https://darksky.net/dev/docs\n",
    "\n",
    "The Co-ordinates for Berlin sourced from https://latitude.to/map/de/germany/cities/berlin are:\n",
    "\n",
    "DD 52.52437 13.41053\n",
    "\n",
    "DMS 52°31'27.73\" N 13°24'37.91\" E"
   ]
  },
  {
   "cell_type": "code",
   "execution_count": 11,
   "metadata": {},
   "outputs": [],
   "source": [
    "import json\n",
    "\n",
    "#path = \"~/.secret/dark_sky_api.txt\"\n",
    "path = 'c://Users/User1/.secret/dark_sky_api.txt'\n",
    "\n",
    "def get_keys(path):\n",
    "    with open(path) as f:\n",
    "        return json.load(f)"
   ]
  },
  {
   "cell_type": "code",
   "execution_count": 12,
   "metadata": {},
   "outputs": [],
   "source": [
    "keys = get_keys(path)\n",
    "#print(keys)"
   ]
  },
  {
   "cell_type": "code",
   "execution_count": 13,
   "metadata": {},
   "outputs": [],
   "source": [
    "api_key = keys['api_key']"
   ]
  },
  {
   "cell_type": "markdown",
   "metadata": {},
   "source": [
    "The API documentation can be found at: https://darksky.net/dev/docs"
   ]
  },
  {
   "cell_type": "code",
   "execution_count": 14,
   "metadata": {},
   "outputs": [],
   "source": [
    "latitude = 52.52437 \n",
    "longitude = 13.41053\n",
    "\n",
    "import requests\n",
    "SEARCH_LIMIT = 1\n",
    "url = 'https://api.darksky.net/forecast/'+api_key+'/'+ str(latitude) +','+ str(longitude)\n",
    "response = requests.get(url)"
   ]
  },
  {
   "cell_type": "markdown",
   "metadata": {},
   "source": [
    "First test response from the API using the \"currently\" default and longitude & latitude"
   ]
  },
  {
   "cell_type": "code",
   "execution_count": 15,
   "metadata": {},
   "outputs": [
    {
     "name": "stdout",
     "output_type": "stream",
     "text": [
      "<Response [200]>\n",
      "<class 'str'>\n",
      "{\"latitude\":52.52437,\"longitude\":13.41053,\"timezone\":\"Europe/Berlin\",\"currently\":{\"time\":1580459091,\"summary\":\"Overcast\",\"icon\":\"cloudy\",\"precipIntensity\":0.0022,\"precipProbability\":0.17,\"precipType\":\"rain\",\"temperature\":47.92,\"apparentTemperature\":41.65,\"dewPoint\":44.21,\"humidity\":0.87,\"pressure\":1002.7,\"windSpeed\":16.36,\"windGust\":32.92,\"windBearing\":277,\"cloudCover\":0.93,\"uvIndex\":0,\"visibility\":10,\"ozone\":286},\"hourly\":{\"summary\":\"Light rain starting tomorrow morning.\",\"icon\":\"rain\",\"data\":[\n"
     ]
    }
   ],
   "source": [
    "#https://api.darksky.net/forecast/[api_key]/[latitude],[longitude]\n",
    "print(response)\n",
    "print(type(response.text))\n",
    "print(response.text[:500])"
   ]
  },
  {
   "cell_type": "markdown",
   "metadata": {},
   "source": [
    "### Time Machine Request\n",
    "\n",
    "We need to return one weather request per match date. DarkSky uses the unix date convention, so match dates need to be converted in UNIX DATE FORMAT. Running with a test date"
   ]
  },
  {
   "cell_type": "code",
   "execution_count": 16,
   "metadata": {},
   "outputs": [
    {
     "data": {
      "text/plain": [
       "'https://api.darksky.net/forecast/cc668e0d95b3fa324b37c548fe2b5731/52.52437,13.41053,2011-07-17T16:00:00'"
      ]
     },
     "execution_count": 16,
     "metadata": {},
     "output_type": "execute_result"
    }
   ],
   "source": [
    "date = '2011-07-17'\n",
    "url = 'https://api.darksky.net/forecast/'+api_key+'/'+ str(latitude) +','+ str(longitude) + ',' +str(date) + 'T16:00:00'\n",
    "url"
   ]
  },
  {
   "cell_type": "code",
   "execution_count": 54,
   "metadata": {},
   "outputs": [
    {
     "name": "stdout",
     "output_type": "stream",
     "text": [
      "<Response [200]>\n",
      "<class 'str'>\n",
      "{\"latitude\":52.52437,\"longitude\":13.41053,\"timezone\":\"Europe/Berlin\",\"currently\":{\"time\":1310911200,\"precipIntensity\":0,\"precipProbability\":0,\"temperature\":79.39,\"apparentTemperature\":79.39,\"dewPoint\":55.79,\"humidity\":0.44,\"windSpeed\":14.96,\"windGust\":14.99,\"windBearing\":230,\"visibility\":6.206},\"hourly\":{\"summary\":\"Rain overnight and in the evening.\",\"icon\":\"rain\",\"data\":[{\"time\":1310853600,\"precipIntensity\":0,\"precipProbability\":0,\"temperature\":65.79,\"apparentTemperature\":65.79,\"dewPoint\":50.83\n"
     ]
    }
   ],
   "source": [
    "test_response = requests.get(url)\n",
    "print(test_response)\n",
    "print(type(test_response.text))\n",
    "print(test_response.text[:500])"
   ]
  },
  {
   "cell_type": "markdown",
   "metadata": {},
   "source": [
    "### Create a Weather Class: OOP Requirement 1"
   ]
  },
  {
   "cell_type": "code",
   "execution_count": 42,
   "metadata": {},
   "outputs": [],
   "source": [
    "class WeatherGetter():\n",
    "# The function works is slim and only runs once \n",
    "\n",
    "    def __init__(self):    \n",
    "\n",
    "        self.latitude = 52.52437 \n",
    "        self.longitude = 13.41053\n",
    "        \n",
    "    def weather_retriever(self, match_days):\n",
    "        weather = []\n",
    "        for date in match_days:\n",
    "            url = 'https://api.darksky.net/forecast/'+api_key+'/'+ str(self.latitude) +','+ str(self.longitude) + ',' +str(date) + 'T16:00:00'\n",
    "            response = requests.get(url)\n",
    "            weather.append(response.json()['daily']['data'][0].get('icon','clear'))\n",
    "        return(weather)"
   ]
  },
  {
   "cell_type": "markdown",
   "metadata": {},
   "source": [
    "Test the Class on a single date before sending all match dates to the API "
   ]
  },
  {
   "cell_type": "code",
   "execution_count": 55,
   "metadata": {},
   "outputs": [],
   "source": [
    "test_single_run = weather_testing.weather_retriever(['2011-07-15'])"
   ]
  },
  {
   "cell_type": "code",
   "execution_count": 56,
   "metadata": {},
   "outputs": [
    {
     "data": {
      "text/plain": [
       "['partly-cloudy-day']"
      ]
     },
     "execution_count": 56,
     "metadata": {},
     "output_type": "execute_result"
    }
   ],
   "source": [
    "test_single_run"
   ]
  },
  {
   "cell_type": "code",
   "execution_count": 50,
   "metadata": {},
   "outputs": [],
   "source": [
    "weather = weather_testing.weather_retriever(match_days)"
   ]
  },
  {
   "cell_type": "code",
   "execution_count": 51,
   "metadata": {},
   "outputs": [
    {
     "data": {
      "text/plain": [
       "136"
      ]
     },
     "execution_count": 51,
     "metadata": {},
     "output_type": "execute_result"
    }
   ],
   "source": [
    "len(weather)"
   ]
  },
  {
   "cell_type": "code",
   "execution_count": 19,
   "metadata": {},
   "outputs": [],
   "source": [
    "weather"
   ]
  },
  {
   "cell_type": "markdown",
   "metadata": {},
   "source": [
    "Save the weather output down as an emergency fallback in case of API issues later!!!!!!!!!!"
   ]
  },
  {
   "cell_type": "code",
   "execution_count": 61,
   "metadata": {},
   "outputs": [],
   "source": [
    "df_weather=pd.DataFrame(weather)\n",
    "df_weather.to_csv('weather_on_match_days_berlin')"
   ]
  },
  {
   "cell_type": "code",
   "execution_count": 21,
   "metadata": {},
   "outputs": [
    {
     "data": {
      "text/plain": [
       "['partly-cloudy-day',\n",
       " 'clear',\n",
       " 'rain',\n",
       " 'rain',\n",
       " 'rain',\n",
       " 'rain',\n",
       " 'partly-cloudy-day',\n",
       " 'partly-cloudy-day',\n",
       " 'rain',\n",
       " 'rain',\n",
       " 'rain',\n",
       " 'rain',\n",
       " 'rain',\n",
       " 'partly-cloudy-day',\n",
       " 'rain',\n",
       " 'rain',\n",
       " 'partly-cloudy-day',\n",
       " 'clear',\n",
       " 'clear',\n",
       " 'partly-cloudy-day',\n",
       " 'clear',\n",
       " 'partly-cloudy-day',\n",
       " 'partly-cloudy-day',\n",
       " 'partly-cloudy-day',\n",
       " 'partly-cloudy-day',\n",
       " 'partly-cloudy-day',\n",
       " 'rain',\n",
       " 'rain',\n",
       " 'partly-cloudy-day',\n",
       " 'partly-cloudy-day',\n",
       " 'rain',\n",
       " 'rain',\n",
       " 'partly-cloudy-day',\n",
       " 'clear',\n",
       " 'clear',\n",
       " 'clear',\n",
       " 'clear',\n",
       " 'clear',\n",
       " 'clear',\n",
       " 'clear',\n",
       " 'clear',\n",
       " 'clear',\n",
       " 'clear',\n",
       " 'clear',\n",
       " 'partly-cloudy-day',\n",
       " 'clear',\n",
       " 'clear',\n",
       " 'partly-cloudy-day',\n",
       " 'clear',\n",
       " 'clear',\n",
       " 'partly-cloudy-day',\n",
       " 'clear',\n",
       " 'clear',\n",
       " 'clear',\n",
       " 'clear',\n",
       " 'cloudy',\n",
       " 'partly-cloudy-day',\n",
       " 'clear',\n",
       " 'clear',\n",
       " 'rain',\n",
       " 'rain',\n",
       " 'wind',\n",
       " 'partly-cloudy-day',\n",
       " 'rain',\n",
       " 'rain',\n",
       " 'partly-cloudy-day',\n",
       " 'partly-cloudy-day',\n",
       " 'partly-cloudy-day',\n",
       " 'partly-cloudy-day',\n",
       " 'partly-cloudy-day',\n",
       " 'rain',\n",
       " 'rain',\n",
       " 'rain',\n",
       " 'rain',\n",
       " 'rain',\n",
       " 'partly-cloudy-day',\n",
       " 'rain',\n",
       " 'partly-cloudy-day',\n",
       " 'rain',\n",
       " 'partly-cloudy-day',\n",
       " 'partly-cloudy-day',\n",
       " 'clear',\n",
       " 'partly-cloudy-day',\n",
       " 'partly-cloudy-day',\n",
       " 'partly-cloudy-day',\n",
       " 'clear',\n",
       " 'partly-cloudy-day',\n",
       " 'partly-cloudy-day',\n",
       " 'partly-cloudy-day',\n",
       " 'partly-cloudy-day',\n",
       " 'rain',\n",
       " 'partly-cloudy-day',\n",
       " 'rain',\n",
       " 'partly-cloudy-day',\n",
       " 'rain',\n",
       " 'partly-cloudy-day',\n",
       " 'partly-cloudy-day',\n",
       " 'rain',\n",
       " 'partly-cloudy-day',\n",
       " 'clear',\n",
       " 'clear',\n",
       " 'clear',\n",
       " 'partly-cloudy-day',\n",
       " 'partly-cloudy-day',\n",
       " 'partly-cloudy-day',\n",
       " 'rain',\n",
       " 'partly-cloudy-day',\n",
       " 'clear',\n",
       " 'clear',\n",
       " 'partly-cloudy-day',\n",
       " 'partly-cloudy-day',\n",
       " 'clear-day',\n",
       " 'clear',\n",
       " 'partly-cloudy-day',\n",
       " 'clear',\n",
       " 'partly-cloudy-day',\n",
       " 'rain',\n",
       " 'partly-cloudy-day',\n",
       " 'rain',\n",
       " 'partly-cloudy-day',\n",
       " 'partly-cloudy-day',\n",
       " 'clear',\n",
       " 'partly-cloudy-day',\n",
       " 'partly-cloudy-day',\n",
       " 'partly-cloudy-day',\n",
       " 'clear',\n",
       " 'partly-cloudy-day',\n",
       " 'clear',\n",
       " 'clear',\n",
       " 'partly-cloudy-day',\n",
       " 'partly-cloudy-day',\n",
       " 'clear',\n",
       " 'clear',\n",
       " 'clear',\n",
       " 'rain',\n",
       " 'rain']"
      ]
     },
     "execution_count": 21,
     "metadata": {},
     "output_type": "execute_result"
    }
   ],
   "source": [
    "weather"
   ]
  },
  {
   "cell_type": "markdown",
   "metadata": {},
   "source": [
    "Add weather to df_match_ days vector to build a match day vs weather dictionary / key value / pair "
   ]
  },
  {
   "cell_type": "code",
   "execution_count": 22,
   "metadata": {},
   "outputs": [],
   "source": [
    "df_match_days['Weather'] = weather"
   ]
  },
  {
   "cell_type": "code",
   "execution_count": 23,
   "metadata": {},
   "outputs": [
    {
     "data": {
      "text/html": [
       "<div>\n",
       "<style scoped>\n",
       "    .dataframe tbody tr th:only-of-type {\n",
       "        vertical-align: middle;\n",
       "    }\n",
       "\n",
       "    .dataframe tbody tr th {\n",
       "        vertical-align: top;\n",
       "    }\n",
       "\n",
       "    .dataframe thead th {\n",
       "        text-align: right;\n",
       "    }\n",
       "</style>\n",
       "<table border=\"1\" class=\"dataframe\">\n",
       "  <thead>\n",
       "    <tr style=\"text-align: right;\">\n",
       "      <th></th>\n",
       "      <th>Date</th>\n",
       "      <th>Weather</th>\n",
       "    </tr>\n",
       "  </thead>\n",
       "  <tbody>\n",
       "    <tr>\n",
       "      <td>0</td>\n",
       "      <td>2011-07-15</td>\n",
       "      <td>partly-cloudy-day</td>\n",
       "    </tr>\n",
       "    <tr>\n",
       "      <td>1</td>\n",
       "      <td>2011-07-16</td>\n",
       "      <td>clear</td>\n",
       "    </tr>\n",
       "    <tr>\n",
       "      <td>2</td>\n",
       "      <td>2011-07-17</td>\n",
       "      <td>rain</td>\n",
       "    </tr>\n",
       "    <tr>\n",
       "      <td>3</td>\n",
       "      <td>2011-07-18</td>\n",
       "      <td>rain</td>\n",
       "    </tr>\n",
       "    <tr>\n",
       "      <td>4</td>\n",
       "      <td>2011-07-22</td>\n",
       "      <td>rain</td>\n",
       "    </tr>\n",
       "    <tr>\n",
       "      <td>...</td>\n",
       "      <td>...</td>\n",
       "      <td>...</td>\n",
       "    </tr>\n",
       "    <tr>\n",
       "      <td>131</td>\n",
       "      <td>2012-04-23</td>\n",
       "      <td>clear</td>\n",
       "    </tr>\n",
       "    <tr>\n",
       "      <td>132</td>\n",
       "      <td>2012-04-28</td>\n",
       "      <td>clear</td>\n",
       "    </tr>\n",
       "    <tr>\n",
       "      <td>133</td>\n",
       "      <td>2012-04-29</td>\n",
       "      <td>clear</td>\n",
       "    </tr>\n",
       "    <tr>\n",
       "      <td>134</td>\n",
       "      <td>2012-05-05</td>\n",
       "      <td>rain</td>\n",
       "    </tr>\n",
       "    <tr>\n",
       "      <td>135</td>\n",
       "      <td>2012-05-06</td>\n",
       "      <td>rain</td>\n",
       "    </tr>\n",
       "  </tbody>\n",
       "</table>\n",
       "<p>136 rows × 2 columns</p>\n",
       "</div>"
      ],
      "text/plain": [
       "           Date            Weather\n",
       "0    2011-07-15  partly-cloudy-day\n",
       "1    2011-07-16              clear\n",
       "2    2011-07-17               rain\n",
       "3    2011-07-18               rain\n",
       "4    2011-07-22               rain\n",
       "..          ...                ...\n",
       "131  2012-04-23              clear\n",
       "132  2012-04-28              clear\n",
       "133  2012-04-29              clear\n",
       "134  2012-05-05               rain\n",
       "135  2012-05-06               rain\n",
       "\n",
       "[136 rows x 2 columns]"
      ]
     },
     "execution_count": 23,
     "metadata": {},
     "output_type": "execute_result"
    }
   ],
   "source": [
    "#df_match_days.columns = ['Date']#, 'Weather']\n",
    "df_match_days"
   ]
  },
  {
   "cell_type": "markdown",
   "metadata": {},
   "source": [
    "Join / Merge the weather information to the results dataframe "
   ]
  },
  {
   "cell_type": "code",
   "execution_count": 24,
   "metadata": {},
   "outputs": [],
   "source": [
    "df = pd.merge(df,df_match_days)"
   ]
  },
  {
   "cell_type": "code",
   "execution_count": 150,
   "metadata": {},
   "outputs": [
    {
     "data": {
      "text/html": [
       "<div>\n",
       "<style scoped>\n",
       "    .dataframe tbody tr th:only-of-type {\n",
       "        vertical-align: middle;\n",
       "    }\n",
       "\n",
       "    .dataframe tbody tr th {\n",
       "        vertical-align: top;\n",
       "    }\n",
       "\n",
       "    .dataframe thead th {\n",
       "        text-align: right;\n",
       "    }\n",
       "</style>\n",
       "<table border=\"1\" class=\"dataframe\">\n",
       "  <thead>\n",
       "    <tr style=\"text-align: right;\">\n",
       "      <th></th>\n",
       "      <th>Match_ID</th>\n",
       "      <th>Div</th>\n",
       "      <th>Season</th>\n",
       "      <th>Date</th>\n",
       "      <th>HomeTeam</th>\n",
       "      <th>AwayTeam</th>\n",
       "      <th>FTHG</th>\n",
       "      <th>FTAG</th>\n",
       "      <th>FTR</th>\n",
       "      <th>Match_Winner</th>\n",
       "      <th>Weather</th>\n",
       "    </tr>\n",
       "  </thead>\n",
       "  <tbody>\n",
       "    <tr>\n",
       "      <td>0</td>\n",
       "      <td>1092</td>\n",
       "      <td>D1</td>\n",
       "      <td>2011</td>\n",
       "      <td>2012-03-31</td>\n",
       "      <td>Nurnberg</td>\n",
       "      <td>Bayern Munich</td>\n",
       "      <td>0</td>\n",
       "      <td>1</td>\n",
       "      <td>A</td>\n",
       "      <td>Bayern Munich</td>\n",
       "      <td>rain</td>\n",
       "    </tr>\n",
       "    <tr>\n",
       "      <td>1</td>\n",
       "      <td>1189</td>\n",
       "      <td>D1</td>\n",
       "      <td>2011</td>\n",
       "      <td>2012-03-31</td>\n",
       "      <td>Augsburg</td>\n",
       "      <td>FC Koln</td>\n",
       "      <td>2</td>\n",
       "      <td>1</td>\n",
       "      <td>H</td>\n",
       "      <td>Augsburg</td>\n",
       "      <td>rain</td>\n",
       "    </tr>\n",
       "    <tr>\n",
       "      <td>2</td>\n",
       "      <td>1206</td>\n",
       "      <td>D1</td>\n",
       "      <td>2011</td>\n",
       "      <td>2012-03-31</td>\n",
       "      <td>Leverkusen</td>\n",
       "      <td>Freiburg</td>\n",
       "      <td>0</td>\n",
       "      <td>2</td>\n",
       "      <td>A</td>\n",
       "      <td>Freiburg</td>\n",
       "      <td>rain</td>\n",
       "    </tr>\n",
       "    <tr>\n",
       "      <td>3</td>\n",
       "      <td>1215</td>\n",
       "      <td>D1</td>\n",
       "      <td>2011</td>\n",
       "      <td>2012-03-31</td>\n",
       "      <td>Kaiserslautern</td>\n",
       "      <td>Hamburg</td>\n",
       "      <td>0</td>\n",
       "      <td>1</td>\n",
       "      <td>A</td>\n",
       "      <td>Hamburg</td>\n",
       "      <td>rain</td>\n",
       "    </tr>\n",
       "    <tr>\n",
       "      <td>4</td>\n",
       "      <td>1396</td>\n",
       "      <td>D2</td>\n",
       "      <td>2011</td>\n",
       "      <td>2012-03-31</td>\n",
       "      <td>Munich 1860</td>\n",
       "      <td>Hansa Rostock</td>\n",
       "      <td>0</td>\n",
       "      <td>1</td>\n",
       "      <td>A</td>\n",
       "      <td>Hansa Rostock</td>\n",
       "      <td>rain</td>\n",
       "    </tr>\n",
       "    <tr>\n",
       "      <td>...</td>\n",
       "      <td>...</td>\n",
       "      <td>...</td>\n",
       "      <td>...</td>\n",
       "      <td>...</td>\n",
       "      <td>...</td>\n",
       "      <td>...</td>\n",
       "      <td>...</td>\n",
       "      <td>...</td>\n",
       "      <td>...</td>\n",
       "      <td>...</td>\n",
       "      <td>...</td>\n",
       "    </tr>\n",
       "    <tr>\n",
       "      <td>607</td>\n",
       "      <td>1689</td>\n",
       "      <td>D2</td>\n",
       "      <td>2011</td>\n",
       "      <td>2011-12-05</td>\n",
       "      <td>Duisburg</td>\n",
       "      <td>Fortuna Dusseldorf</td>\n",
       "      <td>0</td>\n",
       "      <td>2</td>\n",
       "      <td>A</td>\n",
       "      <td>Fortuna Dusseldorf</td>\n",
       "      <td>partly-cloudy-day</td>\n",
       "    </tr>\n",
       "    <tr>\n",
       "      <td>608</td>\n",
       "      <td>1690</td>\n",
       "      <td>D2</td>\n",
       "      <td>2011</td>\n",
       "      <td>2012-04-16</td>\n",
       "      <td>Dresden</td>\n",
       "      <td>Fortuna Dusseldorf</td>\n",
       "      <td>2</td>\n",
       "      <td>1</td>\n",
       "      <td>H</td>\n",
       "      <td>Dresden</td>\n",
       "      <td>clear</td>\n",
       "    </tr>\n",
       "    <tr>\n",
       "      <td>609</td>\n",
       "      <td>1694</td>\n",
       "      <td>D2</td>\n",
       "      <td>2011</td>\n",
       "      <td>2011-10-03</td>\n",
       "      <td>Braunschweig</td>\n",
       "      <td>Fortuna Dusseldorf</td>\n",
       "      <td>1</td>\n",
       "      <td>1</td>\n",
       "      <td>D</td>\n",
       "      <td>Draw</td>\n",
       "      <td>clear</td>\n",
       "    </tr>\n",
       "    <tr>\n",
       "      <td>610</td>\n",
       "      <td>1696</td>\n",
       "      <td>D2</td>\n",
       "      <td>2011</td>\n",
       "      <td>2012-03-19</td>\n",
       "      <td>Cottbus</td>\n",
       "      <td>Fortuna Dusseldorf</td>\n",
       "      <td>1</td>\n",
       "      <td>1</td>\n",
       "      <td>D</td>\n",
       "      <td>Draw</td>\n",
       "      <td>partly-cloudy-day</td>\n",
       "    </tr>\n",
       "    <tr>\n",
       "      <td>611</td>\n",
       "      <td>1701</td>\n",
       "      <td>D2</td>\n",
       "      <td>2011</td>\n",
       "      <td>2011-08-15</td>\n",
       "      <td>Ein Frankfurt</td>\n",
       "      <td>Fortuna Dusseldorf</td>\n",
       "      <td>1</td>\n",
       "      <td>1</td>\n",
       "      <td>D</td>\n",
       "      <td>Draw</td>\n",
       "      <td>rain</td>\n",
       "    </tr>\n",
       "  </tbody>\n",
       "</table>\n",
       "<p>612 rows × 11 columns</p>\n",
       "</div>"
      ],
      "text/plain": [
       "     Match_ID Div  Season        Date        HomeTeam            AwayTeam  \\\n",
       "0        1092  D1    2011  2012-03-31        Nurnberg       Bayern Munich   \n",
       "1        1189  D1    2011  2012-03-31        Augsburg             FC Koln   \n",
       "2        1206  D1    2011  2012-03-31      Leverkusen            Freiburg   \n",
       "3        1215  D1    2011  2012-03-31  Kaiserslautern             Hamburg   \n",
       "4        1396  D2    2011  2012-03-31     Munich 1860       Hansa Rostock   \n",
       "..        ...  ..     ...         ...             ...                 ...   \n",
       "607      1689  D2    2011  2011-12-05        Duisburg  Fortuna Dusseldorf   \n",
       "608      1690  D2    2011  2012-04-16         Dresden  Fortuna Dusseldorf   \n",
       "609      1694  D2    2011  2011-10-03    Braunschweig  Fortuna Dusseldorf   \n",
       "610      1696  D2    2011  2012-03-19         Cottbus  Fortuna Dusseldorf   \n",
       "611      1701  D2    2011  2011-08-15   Ein Frankfurt  Fortuna Dusseldorf   \n",
       "\n",
       "     FTHG  FTAG FTR        Match_Winner            Weather  \n",
       "0       0     1   A       Bayern Munich               rain  \n",
       "1       2     1   H            Augsburg               rain  \n",
       "2       0     2   A            Freiburg               rain  \n",
       "3       0     1   A             Hamburg               rain  \n",
       "4       0     1   A       Hansa Rostock               rain  \n",
       "..    ...   ...  ..                 ...                ...  \n",
       "607     0     2   A  Fortuna Dusseldorf  partly-cloudy-day  \n",
       "608     2     1   H             Dresden              clear  \n",
       "609     1     1   D                Draw              clear  \n",
       "610     1     1   D                Draw  partly-cloudy-day  \n",
       "611     1     1   D                Draw               rain  \n",
       "\n",
       "[612 rows x 11 columns]"
      ]
     },
     "execution_count": 150,
     "metadata": {},
     "output_type": "execute_result"
    }
   ],
   "source": [
    "df"
   ]
  },
  {
   "cell_type": "markdown",
   "metadata": {},
   "source": [
    "Save the dataframe to csv in case of need to rollback"
   ]
  },
  {
   "cell_type": "code",
   "execution_count": 151,
   "metadata": {},
   "outputs": [],
   "source": [
    "df.to_csv('win_lose_draw_rain.csv')"
   ]
  },
  {
   "cell_type": "code",
   "execution_count": 152,
   "metadata": {},
   "outputs": [
    {
     "data": {
      "text/plain": [
       "36"
      ]
     },
     "execution_count": 152,
     "metadata": {},
     "output_type": "execute_result"
    }
   ],
   "source": [
    "home = df['HomeTeam'].unique()\n",
    "len(home)"
   ]
  },
  {
   "cell_type": "code",
   "execution_count": 153,
   "metadata": {},
   "outputs": [
    {
     "data": {
      "text/plain": [
       "36"
      ]
     },
     "execution_count": 153,
     "metadata": {},
     "output_type": "execute_result"
    }
   ],
   "source": [
    "away = df['AwayTeam'].unique()\n",
    "len(away)"
   ]
  },
  {
   "cell_type": "markdown",
   "metadata": {},
   "source": [
    "Start the process of creating team name, wins, losses, percentage, rain wins percentage"
   ]
  },
  {
   "cell_type": "code",
   "execution_count": 156,
   "metadata": {},
   "outputs": [
    {
     "data": {
      "text/plain": [
       "996"
      ]
     },
     "execution_count": 156,
     "metadata": {},
     "output_type": "execute_result"
    }
   ],
   "source": [
    "home_goals_sum = df['FTHG'].sum() # 996 home goals\n",
    "home_goals_sum"
   ]
  },
  {
   "cell_type": "code",
   "execution_count": 157,
   "metadata": {},
   "outputs": [
    {
     "data": {
      "text/plain": [
       "734"
      ]
     },
     "execution_count": 157,
     "metadata": {},
     "output_type": "execute_result"
    }
   ],
   "source": [
    "away_goals_sum = df['FTAG'].sum() # 734 away goals\n",
    "away_goals_sum"
   ]
  },
  {
   "cell_type": "code",
   "execution_count": 158,
   "metadata": {},
   "outputs": [
    {
     "data": {
      "text/plain": [
       "612"
      ]
     },
     "execution_count": 158,
     "metadata": {},
     "output_type": "execute_result"
    }
   ],
   "source": [
    "len(df['Match_ID'].unique()) # 612 unique match ids"
   ]
  },
  {
   "cell_type": "code",
   "execution_count": 159,
   "metadata": {},
   "outputs": [
    {
     "data": {
      "text/plain": [
       "36"
      ]
     },
     "execution_count": 159,
     "metadata": {},
     "output_type": "execute_result"
    }
   ],
   "source": [
    "h_teams = df['HomeTeam'].unique()\n",
    "len(h_teams)"
   ]
  },
  {
   "cell_type": "code",
   "execution_count": null,
   "metadata": {},
   "outputs": [],
   "source": []
  },
  {
   "cell_type": "code",
   "execution_count": null,
   "metadata": {},
   "outputs": [],
   "source": []
  },
  {
   "cell_type": "code",
   "execution_count": 162,
   "metadata": {},
   "outputs": [],
   "source": [
    "home_goals = df.groupby(['HomeTeam'])['FTHG'].sum()\n",
    "home_goals=pd.DataFrame(home_goals)\n",
    "home_goals = home_goals.reset_index()\n",
    "home_goals.columns = ['Team', 'FTHG']\n",
    "\n",
    "away_goals = df.groupby(['AwayTeam'])['FTAG'].sum()\n",
    "away_goals=pd.DataFrame(away_goals)\n",
    "away_goals = away_goals.reset_index()\n",
    "away_goals.columns = ['Team', 'FTAG']\n"
   ]
  },
  {
   "cell_type": "code",
   "execution_count": 166,
   "metadata": {},
   "outputs": [
    {
     "data": {
      "text/html": [
       "<div>\n",
       "<style scoped>\n",
       "    .dataframe tbody tr th:only-of-type {\n",
       "        vertical-align: middle;\n",
       "    }\n",
       "\n",
       "    .dataframe tbody tr th {\n",
       "        vertical-align: top;\n",
       "    }\n",
       "\n",
       "    .dataframe thead th {\n",
       "        text-align: right;\n",
       "    }\n",
       "</style>\n",
       "<table border=\"1\" class=\"dataframe\">\n",
       "  <thead>\n",
       "    <tr style=\"text-align: right;\">\n",
       "      <th></th>\n",
       "      <th>Team</th>\n",
       "      <th>FTAG</th>\n",
       "    </tr>\n",
       "  </thead>\n",
       "  <tbody>\n",
       "    <tr>\n",
       "      <td>0</td>\n",
       "      <td>Aachen</td>\n",
       "      <td>15</td>\n",
       "    </tr>\n",
       "    <tr>\n",
       "      <td>1</td>\n",
       "      <td>Augsburg</td>\n",
       "      <td>16</td>\n",
       "    </tr>\n",
       "  </tbody>\n",
       "</table>\n",
       "</div>"
      ],
      "text/plain": [
       "       Team  FTAG\n",
       "0    Aachen    15\n",
       "1  Augsburg    16"
      ]
     },
     "execution_count": 166,
     "metadata": {},
     "output_type": "execute_result"
    }
   ],
   "source": [
    "away_goals.head(2)"
   ]
  },
  {
   "cell_type": "code",
   "execution_count": 167,
   "metadata": {},
   "outputs": [
    {
     "data": {
      "text/html": [
       "<div>\n",
       "<style scoped>\n",
       "    .dataframe tbody tr th:only-of-type {\n",
       "        vertical-align: middle;\n",
       "    }\n",
       "\n",
       "    .dataframe tbody tr th {\n",
       "        vertical-align: top;\n",
       "    }\n",
       "\n",
       "    .dataframe thead th {\n",
       "        text-align: right;\n",
       "    }\n",
       "</style>\n",
       "<table border=\"1\" class=\"dataframe\">\n",
       "  <thead>\n",
       "    <tr style=\"text-align: right;\">\n",
       "      <th></th>\n",
       "      <th>Team</th>\n",
       "      <th>FTHG</th>\n",
       "    </tr>\n",
       "  </thead>\n",
       "  <tbody>\n",
       "    <tr>\n",
       "      <td>0</td>\n",
       "      <td>Aachen</td>\n",
       "      <td>15</td>\n",
       "    </tr>\n",
       "    <tr>\n",
       "      <td>1</td>\n",
       "      <td>Augsburg</td>\n",
       "      <td>20</td>\n",
       "    </tr>\n",
       "  </tbody>\n",
       "</table>\n",
       "</div>"
      ],
      "text/plain": [
       "       Team  FTHG\n",
       "0    Aachen    15\n",
       "1  Augsburg    20"
      ]
     },
     "execution_count": 167,
     "metadata": {},
     "output_type": "execute_result"
    }
   ],
   "source": [
    "home_goals.head(2)"
   ]
  },
  {
   "cell_type": "code",
   "execution_count": 168,
   "metadata": {},
   "outputs": [],
   "source": [
    "total_goals = pd.merge(home_goals, away_goals)"
   ]
  },
  {
   "cell_type": "code",
   "execution_count": 170,
   "metadata": {},
   "outputs": [
    {
     "data": {
      "text/html": [
       "<div>\n",
       "<style scoped>\n",
       "    .dataframe tbody tr th:only-of-type {\n",
       "        vertical-align: middle;\n",
       "    }\n",
       "\n",
       "    .dataframe tbody tr th {\n",
       "        vertical-align: top;\n",
       "    }\n",
       "\n",
       "    .dataframe thead th {\n",
       "        text-align: right;\n",
       "    }\n",
       "</style>\n",
       "<table border=\"1\" class=\"dataframe\">\n",
       "  <thead>\n",
       "    <tr style=\"text-align: right;\">\n",
       "      <th></th>\n",
       "      <th>Team</th>\n",
       "      <th>FTHG</th>\n",
       "      <th>FTAG</th>\n",
       "    </tr>\n",
       "  </thead>\n",
       "  <tbody>\n",
       "    <tr>\n",
       "      <td>0</td>\n",
       "      <td>Aachen</td>\n",
       "      <td>15</td>\n",
       "      <td>15</td>\n",
       "    </tr>\n",
       "    <tr>\n",
       "      <td>1</td>\n",
       "      <td>Augsburg</td>\n",
       "      <td>20</td>\n",
       "      <td>16</td>\n",
       "    </tr>\n",
       "    <tr>\n",
       "      <td>2</td>\n",
       "      <td>Bayern Munich</td>\n",
       "      <td>49</td>\n",
       "      <td>28</td>\n",
       "    </tr>\n",
       "    <tr>\n",
       "      <td>3</td>\n",
       "      <td>Bochum</td>\n",
       "      <td>23</td>\n",
       "      <td>18</td>\n",
       "    </tr>\n",
       "    <tr>\n",
       "      <td>4</td>\n",
       "      <td>Braunschweig</td>\n",
       "      <td>21</td>\n",
       "      <td>16</td>\n",
       "    </tr>\n",
       "  </tbody>\n",
       "</table>\n",
       "</div>"
      ],
      "text/plain": [
       "            Team  FTHG  FTAG\n",
       "0         Aachen    15    15\n",
       "1       Augsburg    20    16\n",
       "2  Bayern Munich    49    28\n",
       "3         Bochum    23    18\n",
       "4   Braunschweig    21    16"
      ]
     },
     "execution_count": 170,
     "metadata": {},
     "output_type": "execute_result"
    }
   ],
   "source": [
    "total_goals.head()"
   ]
  },
  {
   "cell_type": "code",
   "execution_count": 172,
   "metadata": {},
   "outputs": [
    {
     "data": {
      "text/html": [
       "<div>\n",
       "<style scoped>\n",
       "    .dataframe tbody tr th:only-of-type {\n",
       "        vertical-align: middle;\n",
       "    }\n",
       "\n",
       "    .dataframe tbody tr th {\n",
       "        vertical-align: top;\n",
       "    }\n",
       "\n",
       "    .dataframe thead th {\n",
       "        text-align: right;\n",
       "    }\n",
       "</style>\n",
       "<table border=\"1\" class=\"dataframe\">\n",
       "  <thead>\n",
       "    <tr style=\"text-align: right;\">\n",
       "      <th></th>\n",
       "      <th>Team</th>\n",
       "      <th>FTHG</th>\n",
       "      <th>FTAG</th>\n",
       "      <th>FTTG</th>\n",
       "    </tr>\n",
       "  </thead>\n",
       "  <tbody>\n",
       "    <tr>\n",
       "      <td>0</td>\n",
       "      <td>Aachen</td>\n",
       "      <td>15</td>\n",
       "      <td>15</td>\n",
       "      <td>30</td>\n",
       "    </tr>\n",
       "    <tr>\n",
       "      <td>1</td>\n",
       "      <td>Augsburg</td>\n",
       "      <td>20</td>\n",
       "      <td>16</td>\n",
       "      <td>36</td>\n",
       "    </tr>\n",
       "    <tr>\n",
       "      <td>2</td>\n",
       "      <td>Bayern Munich</td>\n",
       "      <td>49</td>\n",
       "      <td>28</td>\n",
       "      <td>77</td>\n",
       "    </tr>\n",
       "    <tr>\n",
       "      <td>3</td>\n",
       "      <td>Bochum</td>\n",
       "      <td>23</td>\n",
       "      <td>18</td>\n",
       "      <td>41</td>\n",
       "    </tr>\n",
       "    <tr>\n",
       "      <td>4</td>\n",
       "      <td>Braunschweig</td>\n",
       "      <td>21</td>\n",
       "      <td>16</td>\n",
       "      <td>37</td>\n",
       "    </tr>\n",
       "  </tbody>\n",
       "</table>\n",
       "</div>"
      ],
      "text/plain": [
       "            Team  FTHG  FTAG  FTTG\n",
       "0         Aachen    15    15    30\n",
       "1       Augsburg    20    16    36\n",
       "2  Bayern Munich    49    28    77\n",
       "3         Bochum    23    18    41\n",
       "4   Braunschweig    21    16    37"
      ]
     },
     "execution_count": 172,
     "metadata": {},
     "output_type": "execute_result"
    }
   ],
   "source": [
    "total_goals['FTTG'] = total_goals['FTHG'] + total_goals['FTAG']\n",
    "total_goals.head()"
   ]
  },
  {
   "cell_type": "code",
   "execution_count": null,
   "metadata": {},
   "outputs": [],
   "source": []
  },
  {
   "cell_type": "code",
   "execution_count": null,
   "metadata": {},
   "outputs": [],
   "source": []
  },
  {
   "cell_type": "code",
   "execution_count": null,
   "metadata": {},
   "outputs": [],
   "source": [
    "class win_lose_draw_stats():\n",
    "    \n",
    "    def _init_(self, df = None, filter_cond = None):\n",
    "        self.name = name\n",
    "        self.df = df\n",
    "        self.filter_cond = filter_cond\n",
    "    \n",
    "    def goals(self):\n",
    "        home_team_goals = self.df.loc[:, ['HomeTeam', 'FTHG']].groupby(['HomeTeam']).sum()\n",
    "        away_team_goals = self.df.loc[:, ['AwayTeam', 'FTAG']].groupby(['AwayTeam']).sum()\n",
    "        team_goals = pd.concat([home_team_goals, away_team_goals], axis =  1)\n",
    "        team_goals['total_goals'] = team_goals['FTHG'] + team_goals['FTAG']\n",
    "        return team_goals\n",
    "    \n",
    "    def wins(self):\n",
    "        home_team_wins = self.df.loc[:, ['HomeTeam', 'FTR_H']].groupby(['HomeTeam']).sum()\n",
    "        away_team_wins = self.df.loc[:, ['AwayTeam', 'FTR_A']].groupby(['AwayTeam']).sum()\n",
    "        team_wins = pd.concat([home_team_wins, away_team_wins], axis =  1)\n",
    "        team_wins['total_wins'] = team_wins['FTR_H'] + team_wins['FTR_A']\n",
    "        return team_wins\n",
    "    \n",
    "    def losses(self):\n",
    "        home_team_losses = self.df.loc[:, ['HomeTeam', 'FTR_A']].groupby(['HomeTeam']).sum()\n",
    "        away_team_losses = self.df.loc[:, ['AwayTeam', 'FTR_H']].groupby(['AwayTeam']).sum()\n",
    "        team_losses = pd.concat([home_team_losses, away_team_losses], axis =  1)\n",
    "        team_losses['total_losses'] = team_losses['FTR_A'] + team_losses['FTR_H']\n",
    "        return team_losses\n",
    "    \n",
    "    def draws(self):\n",
    "        home_team_draws = self.df.loc[:, ['HomeTeam', 'FTR_D']].groupby(['HomeTeam']).sum()\n",
    "        away_team_draws = self.df.loc[:, ['AwayTeam', 'FTR_D']].groupby(['AwayTeam']).sum()\n",
    "        home_team_draws = home_team_draws.rename(columns = {'FTR_D': 'FTR_D_H'})\n",
    "        away_team_draws = away_team_draws.rename(columns = {'FTR_D': 'FTR_D_A'})\n",
    "        team_draws = pd.concat([home_team_draws, away_team_draws], axis =  1)\n",
    "        team_draws['total_draws'] = team_draws['FTR_D_H'] + team_draws['FTR_D_A']\n",
    "        return team_draws\n",
    "    \n",
    "    def w_l_d(self):\n",
    "        g = self.goals()\n",
    "        w = self.wins()\n",
    "        l = self.losses()\n",
    "        d = self.draws()\n",
    "        full_stats = pd.concat([g.loc[:, ['total_goals']],\n",
    "                             w.loc[:, ['total_wins']],\n",
    "                             l.loc[:, ['total_losses']],\n",
    "                             d.loc[:, ['total_draws']]], axis = 1)\n",
    "        full_stats['win_pct'] = full_stats['total_wins']/(full_stats['total_wins'] + full_stats['total_losses'] + full_stats['total_draws'])\n",
    "        return full_stats"
   ]
  },
  {
   "cell_type": "code",
   "execution_count": null,
   "metadata": {},
   "outputs": [],
   "source": [
    "b = win_lose_draw_stats()\n",
    "c = b.wins()"
   ]
  },
  {
   "cell_type": "code",
   "execution_count": null,
   "metadata": {},
   "outputs": [],
   "source": [
    "def _init_(self, df = None, filter_cond = None):\n",
    "        self.name = name\n",
    "        self.df = df\n",
    "        self.filter_cond = filter_cond"
   ]
  },
  {
   "cell_type": "code",
   "execution_count": null,
   "metadata": {},
   "outputs": [],
   "source": []
  }
 ],
 "metadata": {
  "kernelspec": {
   "display_name": "Python 3",
   "language": "python",
   "name": "python3"
  },
  "language_info": {
   "codemirror_mode": {
    "name": "ipython",
    "version": 3
   },
   "file_extension": ".py",
   "mimetype": "text/x-python",
   "name": "python",
   "nbconvert_exporter": "python",
   "pygments_lexer": "ipython3",
   "version": "3.7.4"
  }
 },
 "nbformat": 4,
 "nbformat_minor": 2
}
