{
 "cells": [
  {
   "cell_type": "markdown",
   "metadata": {},
   "source": [
    "## Module 2 Project "
   ]
  },
  {
   "cell_type": "markdown",
   "metadata": {},
   "source": [
    "### Executive Summary\n",
    "\n",
    "This notebook is split into the following sections:\n",
    "\n",
    "    1) Connect to the SQL database\n",
    "    2) Extract + Transform + Load\n",
    "    3) \n",
    "\n",
    "\n",
    "Upon completion of this lab, each unique team in this dataset should have a record in the MongoDB instance containing the following information:\n",
    "\n",
    "The name of the team\n",
    "The total number of goals scored by the team during the 2011 season\n",
    "The total number of wins the team earned during the 2011 season\n",
    "A histogram visualization of the team's wins and losses for the 2011 season (store the visualization directly)\n",
    "\n",
    "The team's win percentage on days where it was raining during games in the 2011 season.\n",
    "\n",
    "### Inputs\n",
    "\n",
    "    All team names\n",
    "    All Match results for 2011\n",
    "    All goals scored for 2011\n",
    "    All match dates \n",
    "    \n",
    "    Weather"
   ]
  },
  {
   "cell_type": "markdown",
   "metadata": {},
   "source": [
    "SQL DB: Name of team, goals scored during the 2011 season, total number of wins\n",
    "Weather: From the Weather API - Berlin only\n",
    "Join by date\n",
    "\n",
    "List the match days => max = 365, likely below 200"
   ]
  },
  {
   "cell_type": "markdown",
   "metadata": {},
   "source": [
    "### Tables:\n",
    "\n",
    "There are the following Tables: \n",
    "\n",
    "Matches, Teams, Unique Teams, Teams_in_Matches, FlatView, FlatView_Advanced, FlatView_Chrono_TeamOrder_Reduced,  \n",
    "\n",
    "Match_ID (int): unique ID per match\n",
    "Div (str): identifies the division the match was played in (D1 = Bundesliga, D2 = Bundesliga 2, E0 = English Premier League)\n",
    "Season (int): Season the match took place in (usually covering the period of August till May of the following year)\n",
    "Date (str): Date of the match\n",
    "HomeTeam (str): Name of the home team\n",
    "AwayTeam (str): Name of the away team\n",
    "FTHG (int) (Full Time Home Goals): Number of goals scored by the home team\n",
    "FTAG (int) (Full Time Away Goals): Number of goals scored by the away team\n",
    "FTR (str) (Full Time Result): 3-way result of the match (H = Home Win, D = Draw, A = Away Win)\n",
    "\n",
    "#### Table: Teams\n",
    "\n",
    "Season (str): Football season for which the data is valid\n",
    "TeamName (str): Name of the team the data concerns\n",
    "KaderHome (str): Number of Players in the squad\n",
    "AvgAgeHome (str): Average age of players\n",
    "ForeignPlayersHome (str): Number of foreign players (non-German, non-English respectively) playing for the team\n",
    "OverallMarketValueHome (str): Overall market value of the team pre-season in EUR (based on data from transfermarkt.de)\n",
    "AvgMarketValueHome (str): Average market value (per player) of the team pre-season in EUR (based on data from transfermarkt.de)\n",
    "StadiumCapacity (str): Maximum stadium capacity of the team's home stadium\n",
    "\n",
    "#### Table: Unique Teams\n",
    "\n",
    "TeamName (str): Name of a team\n",
    "Unique_Team_ID (int): Unique identifier for each team\n",
    "\n",
    "#### Table: Teams_in_Matches\n",
    "\n",
    "Match_ID (int): Unique match ID\n",
    "Unique_Team_ID (int): Unique team ID (This table is used to easily retrieve each match a given team has played in)\n",
    "Based on these tables I created a couple of views which I used as input for my machine learning models:\n",
    "\n",
    "#### View: FlatView\n",
    "\n",
    "Combination of all matches with the respective additional data from Teams table for both home and away team.\n",
    "\n",
    "#### View: FlatView_Advanced\n",
    "\n",
    "Same as Flatview but also includes Unique_Team_ID and Unique_Team in order to easily retrieve all matches played by a team in chronological order.\n",
    "\n",
    "#### View: FlatView_Chrono_TeamOrder_Reduced\n",
    "\n",
    "Similar to Flatview_Advanced, however missing the additional attributes from team in order to have a longer history including years 1993 - 2004. Especially interesting if one is only interested in analyzing winning/loosing streaks.\n",
    "Match_ID (int): unique ID per match\n",
    "Div (str): identifies the division the match was played in (D1 = Bundesliga, D2 = Bundesliga 2, E0 = English Premier League)\n",
    "Season (int): Season the match took place in (usually covering the period of August till May of the following year)\n",
    "Date (str): Date of the match\n",
    "HomeTeam (str): Name of the home team\n",
    "AwayTeam (str): Name of the away team\n",
    "FTHG (int) (Full Time Home Goals): Number of goals scored by the home team\n",
    "FTAG (int) (Full Time Away Goals): Number of goals scored by the away team\n",
    "FTR (str) (Full Time Result): 3-way result of the match (H = Home Win, D = Draw, A = Away Win)"
   ]
  },
  {
   "cell_type": "code",
   "execution_count": 9,
   "metadata": {},
   "outputs": [],
   "source": [
    "import sqlite3\n",
    "conn = sqlite3.connect('database.sqlite')\n",
    "cur = conn.cursor()"
   ]
  },
  {
   "cell_type": "code",
   "execution_count": 16,
   "metadata": {},
   "outputs": [
    {
     "data": {
      "text/plain": [
       "[(1, 'D2', 2009, '2010-04-04', 'Oberhausen', 'Kaiserslautern', 2, 1, 'H'),\n",
       " (2, 'D2', 2009, '2009-11-01', 'Munich 1860', 'Kaiserslautern', 0, 1, 'A'),\n",
       " (3, 'D2', 2009, '2009-10-04', 'Frankfurt FSV', 'Kaiserslautern', 1, 1, 'D'),\n",
       " (4, 'D2', 2009, '2010-02-21', 'Frankfurt FSV', 'Karlsruhe', 2, 1, 'H'),\n",
       " (5, 'D2', 2009, '2009-12-06', 'Ahlen', 'Karlsruhe', 1, 3, 'A')]"
      ]
     },
     "execution_count": 16,
     "metadata": {},
     "output_type": "execute_result"
    }
   ],
   "source": [
    "cur.execute(\"\"\"SELECT * FROM MATCHES LIMIT 5;\"\"\")\n",
    "cur.fetchall()"
   ]
  },
  {
   "cell_type": "code",
   "execution_count": 21,
   "metadata": {},
   "outputs": [
    {
     "data": {
      "text/plain": [
       "<sqlite3.Cursor at 0x21086b63730>"
      ]
     },
     "execution_count": 21,
     "metadata": {},
     "output_type": "execute_result"
    }
   ],
   "source": [
    "cur.execute(\"\"\"SELECT * FROM MATCHES WHERE Season == '2011' LIMIT 50;\"\"\")"
   ]
  },
  {
   "cell_type": "code",
   "execution_count": 22,
   "metadata": {},
   "outputs": [
    {
     "data": {
      "text/plain": [
       "[(1092, 'D1', 2011, '2012-03-31', 'Nurnberg', 'Bayern Munich', 0, 1, 'A'),\n",
       " (1093, 'D1', 2011, '2011-12-11', 'Stuttgart', 'Bayern Munich', 1, 2, 'A'),\n",
       " (1094, 'D1', 2011, '2011-08-13', 'Wolfsburg', 'Bayern Munich', 0, 1, 'A'),\n",
       " (1095, 'D1', 2011, '2011-11-27', 'Mainz', 'Bayern Munich', 3, 2, 'H'),\n",
       " (1096, 'D1', 2011, '2012-02-18', 'Freiburg', 'Bayern Munich', 0, 0, 'D'),\n",
       " (1097, 'D1', 2011, '2012-01-20', \"M'gladbach\", 'Bayern Munich', 3, 1, 'H'),\n",
       " (1098, 'D1', 2011, '2012-02-04', 'Hamburg', 'Bayern Munich', 1, 1, 'D'),\n",
       " (1099, 'D1', 2011, '2012-04-21', 'Werder Bremen', 'Bayern Munich', 1, 2, 'A'),\n",
       " (1100, 'D1', 2011, '2011-09-18', 'Schalke 04', 'Bayern Munich', 0, 2, 'A'),\n",
       " (1101, 'D1', 2011, '2011-10-23', 'Hannover', 'Bayern Munich', 2, 1, 'H'),\n",
       " (1102, 'D1', 2011, '2011-10-01', 'Hoffenheim', 'Bayern Munich', 0, 0, 'D'),\n",
       " (1103, 'D1', 2011, '2012-03-03', 'Leverkusen', 'Bayern Munich', 2, 0, 'H'),\n",
       " (1104,\n",
       "  'D1',\n",
       "  2011,\n",
       "  '2011-08-27',\n",
       "  'Kaiserslautern',\n",
       "  'Bayern Munich',\n",
       "  0,\n",
       "  3,\n",
       "  'A'),\n",
       " (1105, 'D1', 2011, '2012-03-17', 'Hertha', 'Bayern Munich', 0, 6, 'A'),\n",
       " (1106, 'D1', 2011, '2011-11-06', 'Augsburg', 'Bayern Munich', 1, 2, 'A'),\n",
       " (1107, 'D1', 2011, '2012-05-05', 'FC Koln', 'Bayern Munich', 1, 4, 'A'),\n",
       " (1108, 'D1', 2011, '2012-04-11', 'Dortmund', 'Bayern Munich', 1, 0, 'H'),\n",
       " (1109, 'D1', 2011, '2011-08-27', 'Leverkusen', 'Dortmund', 0, 0, 'D'),\n",
       " (1110, 'D1', 2011, '2011-12-17', 'Freiburg', 'Dortmund', 1, 4, 'A'),\n",
       " (1111, 'D1', 2011, '2012-02-18', 'Hertha', 'Dortmund', 0, 1, 'A'),\n",
       " (1112, 'D1', 2011, '2012-02-03', 'Nurnberg', 'Dortmund', 0, 2, 'A'),\n",
       " (1113, 'D1', 2011, '2011-08-13', 'Hoffenheim', 'Dortmund', 1, 0, 'H'),\n",
       " (1114, 'D1', 2011, '2011-10-29', 'Stuttgart', 'Dortmund', 1, 1, 'D'),\n",
       " (1115, 'D1', 2011, '2012-01-22', 'Hamburg', 'Dortmund', 1, 5, 'A'),\n",
       " (1116, 'D1', 2011, '2011-12-03', \"M'gladbach\", 'Dortmund', 1, 1, 'D'),\n",
       " (1117, 'D1', 2011, '2012-04-14', 'Schalke 04', 'Dortmund', 1, 2, 'A'),\n",
       " (1118, 'D1', 2011, '2011-09-18', 'Hannover', 'Dortmund', 2, 1, 'H'),\n",
       " (1119, 'D1', 2011, '2012-03-25', 'FC Koln', 'Dortmund', 1, 6, 'A'),\n",
       " (1120, 'D1', 2011, '2012-03-10', 'Augsburg', 'Dortmund', 0, 0, 'D'),\n",
       " (1121, 'D1', 2011, '2012-04-07', 'Wolfsburg', 'Dortmund', 1, 3, 'A'),\n",
       " (1122, 'D1', 2011, '2011-11-19', 'Bayern Munich', 'Dortmund', 0, 1, 'A'),\n",
       " (1123, 'D1', 2011, '2011-10-14', 'Werder Bremen', 'Dortmund', 0, 2, 'A'),\n",
       " (1124, 'D1', 2011, '2011-09-24', 'Mainz', 'Dortmund', 1, 2, 'A'),\n",
       " (1125, 'D1', 2011, '2012-04-28', 'Kaiserslautern', 'Dortmund', 2, 5, 'A'),\n",
       " (1126, 'D2', 2011, '2011-12-18', 'Hansa Rostock', 'Dresden', 2, 2, 'D'),\n",
       " (1127, 'D2', 2011, '2012-03-02', 'Bochum', 'Dresden', 0, 2, 'A'),\n",
       " (1128, 'D2', 2011, '2012-03-16', 'Ein Frankfurt', 'Dresden', 3, 0, 'H'),\n",
       " (1129, 'D2', 2011, '2012-02-17', 'Paderborn', 'Dresden', 2, 2, 'D'),\n",
       " (1130, 'D2', 2011, '2011-08-06', 'Greuther Furth', 'Dresden', 1, 0, 'H'),\n",
       " (1131, 'D2', 2011, '2011-11-04', 'Fortuna Dusseldorf', 'Dresden', 2, 1, 'H'),\n",
       " (1132, 'D2', 2011, '2011-09-16', 'Ingolstadt', 'Dresden', 4, 2, 'H'),\n",
       " (1133, 'D2', 2011, '2011-07-15', 'Cottbus', 'Dresden', 2, 1, 'H'),\n",
       " (1134, 'D2', 2011, '2011-11-27', 'St Pauli', 'Dresden', 3, 1, 'H'),\n",
       " (1135, 'D2', 2011, '2012-05-06', 'Frankfurt FSV', 'Dresden', 1, 1, 'D'),\n",
       " (1136, 'D2', 2011, '2012-02-11', 'Union Berlin', 'Dresden', 4, 0, 'H'),\n",
       " (1137, 'D2', 2011, '2011-10-02', 'Munich 1860', 'Dresden', 2, 4, 'A'),\n",
       " (1138, 'D2', 2011, '2012-03-30', 'Aachen', 'Dresden', 0, 1, 'A'),\n",
       " (1139, 'D2', 2011, '2012-04-11', 'Karlsruhe', 'Dresden', 2, 0, 'H'),\n",
       " (1140, 'D2', 2011, '2011-10-22', 'Braunschweig', 'Dresden', 0, 2, 'A'),\n",
       " (1141, 'D2', 2011, '2012-04-21', 'Erzgebirge Aue', 'Dresden', 1, 1, 'D')]"
      ]
     },
     "execution_count": 22,
     "metadata": {},
     "output_type": "execute_result"
    }
   ],
   "source": [
    "cur.fetchall()"
   ]
  },
  {
   "cell_type": "code",
   "execution_count": null,
   "metadata": {},
   "outputs": [],
   "source": []
  },
  {
   "cell_type": "code",
   "execution_count": null,
   "metadata": {},
   "outputs": [],
   "source": []
  },
  {
   "cell_type": "code",
   "execution_count": 11,
   "metadata": {},
   "outputs": [
    {
     "name": "stdout",
     "output_type": "stream",
     "text": [
      " Volume in drive C is Windows\n",
      " Volume Serial Number is 0463-426F\n",
      "\n",
      " Directory of C:\\Users\\User1\\python\\Flatiron_Data_Science_Bootcamp\\student_versions\\london-ds-010620\\Projects\\mod_2\n",
      "\n",
      "29/01/2020  16:47    <DIR>          .\n",
      "29/01/2020  16:47    <DIR>          ..\n",
      "29/01/2020  16:10             2,349 .gitignore\n",
      "29/01/2020  15:45    <DIR>          .ipynb_checkpoints\n",
      "23/01/2020  10:35             7,833 BRIEF.md\n",
      "29/01/2020  16:44                 0 data.sqlite\n",
      "23/01/2020  10:35         6,279,168 database.sqlite\n",
      "23/01/2020  10:35             8,078 index.ipynb\n",
      "29/01/2020  16:47             1,499 module_2_project.ipynb\n",
      "29/01/2020  15:55                32 README.md\n",
      "               7 File(s)      6,298,959 bytes\n",
      "               3 Dir(s)  29,426,835,456 bytes free\n"
     ]
    }
   ],
   "source": [
    "ls"
   ]
  },
  {
   "cell_type": "code",
   "execution_count": 12,
   "metadata": {},
   "outputs": [
    {
     "data": {
      "text/plain": [
       "<sqlite3.Connection at 0x21086ac7e30>"
      ]
     },
     "execution_count": 12,
     "metadata": {},
     "output_type": "execute_result"
    }
   ],
   "source": [
    "conn"
   ]
  },
  {
   "cell_type": "code",
   "execution_count": null,
   "metadata": {},
   "outputs": [],
   "source": []
  }
 ],
 "metadata": {
  "kernelspec": {
   "display_name": "Python 3",
   "language": "python",
   "name": "python3"
  },
  "language_info": {
   "codemirror_mode": {
    "name": "ipython",
    "version": 3
   },
   "file_extension": ".py",
   "mimetype": "text/x-python",
   "name": "python",
   "nbconvert_exporter": "python",
   "pygments_lexer": "ipython3",
   "version": "3.7.4"
  }
 },
 "nbformat": 4,
 "nbformat_minor": 2
}
